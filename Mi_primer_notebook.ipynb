{
 "cells": [
  {
   "cell_type": "code",
   "execution_count": 0,
   "metadata": {
    "application/vnd.databricks.v1+cell": {
     "cellMetadata": {
      "byteLimit": 2048000,
      "rowLimit": 10000
     },
     "inputWidgets": {},
     "nuid": "bcdb2051-bf55-4dd2-9ce9-b140ea977d33",
     "showTitle": false,
     "tableResultSettingsMap": {},
     "title": ""
    }
   },
   "outputs": [
    {
     "output_type": "stream",
     "name": "stdout",
     "output_type": "stream",
     "text": [
      "Hola, Databricks\n"
     ]
    }
   ],
   "source": [
    "%python\n",
    "print(\"Hola, Databricks\")"
   ]
  },
  {
   "cell_type": "code",
   "execution_count": 0,
   "metadata": {
    "application/vnd.databricks.v1+cell": {
     "cellMetadata": {
      "byteLimit": 2048000,
      "rowLimit": 10000
     },
     "inputWidgets": {},
     "nuid": "6b8a362e-5c70-43e8-9adc-f92253795544",
     "showTitle": false,
     "tableResultSettingsMap": {},
     "title": ""
    }
   },
   "outputs": [
    {
     "output_type": "stream",
     "name": "stdout",
     "output_type": "stream",
     "text": [
      "El salario promedio es: 600.0\n"
     ]
    }
   ],
   "source": [
    "%python\n",
    "# Lista de salarios\n",
    "\n",
    "salarios = [500, 600, 550, 650, 700]\n",
    "\n",
    "\n",
    "\n",
    "# Promedio\n",
    "\n",
    "promedio = sum(salarios) / len(salarios)\n",
    "\n",
    "print(\"El salario promedio es:\", promedio)"
   ]
  },
  {
   "cell_type": "code",
   "execution_count": 0,
   "metadata": {
    "application/vnd.databricks.v1+cell": {
     "cellMetadata": {
      "byteLimit": 2048000,
      "rowLimit": 10000
     },
     "inputWidgets": {},
     "nuid": "4390ea81-1f85-4231-87f3-298fa38e3301",
     "showTitle": false,
     "tableResultSettingsMap": {},
     "title": ""
    }
   },
   "outputs": [
    {
     "output_type": "stream",
     "name": "stdout",
     "output_type": "stream",
     "text": [
      "Salario mínimo: 500\nSalario máximo: 700\nMediana: 600\n"
     ]
    }
   ],
   "source": [
    "%python\n",
    "import statistics as stats\n",
    "\n",
    "\n",
    "\n",
    "print(\"Salario mínimo:\", min(salarios))\n",
    "\n",
    "print(\"Salario máximo:\", max(salarios))\n",
    "\n",
    "print(\"Mediana:\", stats.median(salarios))"
   ]
  },
  {
   "cell_type": "code",
   "execution_count": 0,
   "metadata": {
    "application/vnd.databricks.v1+cell": {
     "cellMetadata": {
      "byteLimit": 2048000,
      "rowLimit": 10000
     },
     "inputWidgets": {},
     "nuid": "3a46c84d-97cc-4ed6-8bb8-cde1a89f710b",
     "showTitle": false,
     "tableResultSettingsMap": {},
     "title": ""
    }
   },
   "outputs": [
    {
     "output_type": "stream",
     "name": "stdout",
     "output_type": "stream",
     "text": [
      "Percentil 25: 550.0\nPercentil 50 (mediana): 600.0\nPercentil 75: 650.0\n"
     ]
    }
   ],
   "source": [
    "%python\n",
    "import numpy as np\n",
    "\n",
    "\n",
    "\n",
    "print(\"Percentil 25:\", np.percentile(salarios, 25))\n",
    "\n",
    "print(\"Percentil 50 (mediana):\", np.percentile(salarios, 50))\n",
    "\n",
    "print(\"Percentil 75:\", np.percentile(salarios, 75))"
   ]
  },
  {
   "cell_type": "code",
   "execution_count": 0,
   "metadata": {
    "application/vnd.databricks.v1+cell": {
     "cellMetadata": {
      "byteLimit": 2048000,
      "rowLimit": 10000
     },
     "inputWidgets": {},
     "nuid": "8154d182-2a9e-4f46-b621-d31433d4f7b0",
     "showTitle": false,
     "tableResultSettingsMap": {},
     "title": ""
    }
   },
   "outputs": [
    {
     "output_type": "display_data",
     "data": {
      "text/html": [
       "<style scoped>\n",
       "  .table-result-container {\n",
       "    max-height: 300px;\n",
       "    overflow: auto;\n",
       "  }\n",
       "  table, th, td {\n",
       "    border: 1px solid black;\n",
       "    border-collapse: collapse;\n",
       "  }\n",
       "  th, td {\n",
       "    padding: 5px;\n",
       "  }\n",
       "  th {\n",
       "    text-align: left;\n",
       "  }\n",
       "</style><div class='table-result-container'><table class='table-result'><thead style='background-color: white'><tr><th>Nombre</th><th>Salario</th></tr></thead><tbody><tr><td>Ana</td><td>500</td></tr><tr><td>Luis</td><td>600</td></tr><tr><td>Pedro</td><td>550</td></tr><tr><td>Carla</td><td>650</td></tr><tr><td>Sofía</td><td>700</td></tr></tbody></table></div>"
      ]
     },
     "metadata": {
      "application/vnd.databricks.v1+output": {
       "addedWidgets": {},
       "aggData": [],
       "aggError": "",
       "aggOverflow": false,
       "aggSchema": [],
       "aggSeriesLimitReached": false,
       "aggType": "",
       "arguments": {},
       "columnCustomDisplayInfos": {},
       "data": [
        [
         "Ana",
         500
        ],
        [
         "Luis",
         600
        ],
        [
         "Pedro",
         550
        ],
        [
         "Carla",
         650
        ],
        [
         "Sofía",
         700
        ]
       ],
       "datasetInfos": [],
       "dbfsResultPath": null,
       "isJsonSchema": true,
       "metadata": {},
       "overflow": false,
       "plotOptions": {
        "customPlotOptions": {},
        "displayType": "table",
        "pivotAggregation": null,
        "pivotColumns": null,
        "xColumns": null,
        "yColumns": null
       },
       "removedWidgets": [],
       "schema": [
        {
         "metadata": "{}",
         "name": "Nombre",
         "type": "\"string\""
        },
        {
         "metadata": "{}",
         "name": "Salario",
         "type": "\"long\""
        }
       ],
       "type": "table"
      }
     },
     "output_type": "display_data"
    }
   ],
   "source": [
    "%python\n",
    "# TABLA:  \n",
    "\n",
    "import pandas as pd\n",
    "\n",
    "empleados = {\n",
    "\n",
    "    \"Nombre\": [\"Ana\", \"Luis\", \"Pedro\", \"Carla\", \"Sofía\"],\n",
    "\n",
    "    \"Salario\": [500, 600, 550, 650, 700]\n",
    "\n",
    "}\n",
    "\n",
    "\n",
    "\n",
    "df = pd.DataFrame(empleados)\n",
    "\n",
    "display(df)   # en Databricks muestra tabla con formato"
   ]
  },
  {
   "cell_type": "code",
   "execution_count": 0,
   "metadata": {
    "application/vnd.databricks.v1+cell": {
     "cellMetadata": {
      "byteLimit": 2048000,
      "rowLimit": 10000
     },
     "inputWidgets": {},
     "nuid": "026ac0d0-d538-4d7c-b029-e05409e0271a",
     "showTitle": false,
     "tableResultSettingsMap": {},
     "title": ""
    }
   },
   "outputs": [
    {
     "output_type": "stream",
     "name": "stdout",
     "output_type": "stream",
     "text": [
      "          Salario\ncount    5.000000\nmean   600.000000\nstd     79.056942\nmin    500.000000\n25%    550.000000\n50%    600.000000\n75%    650.000000\nmax    700.000000\n"
     ]
    }
   ],
   "source": [
    "%python\n",
    "#TABLA 2:       \n",
    "import pandas as pd\n",
    "\n",
    "\n",
    "\n",
    "df = pd.DataFrame(salarios, columns=[\"Salario\"])\n",
    "\n",
    "print(df.describe())"
   ]
  },
  {
   "cell_type": "code",
   "execution_count": 0,
   "metadata": {
    "application/vnd.databricks.v1+cell": {
     "cellMetadata": {
      "byteLimit": 2048000,
      "rowLimit": 10000
     },
     "inputWidgets": {},
     "nuid": "e9ccad60-4642-4e44-9922-48c6472542c2",
     "showTitle": false,
     "tableResultSettingsMap": {},
     "title": ""
    }
   },
   "outputs": [
    {
     "output_type": "display_data",
     "data": {
      "image/png": "[encoded data removed]",
      "text/plain": [
       "<Figure size 640x480 with 1 Axes>"
      ]
     },
     "metadata": {},
     "output_type": "display_data"
    }
   ],
   "source": [
    "%python\n",
    "import matplotlib.pyplot as plt\n",
    "\n",
    "plt.plot(salarios, marker=\"o\", linestyle=\"-\")\n",
    "\n",
    "plt.title(\"Evolución de salarios\")\n",
    "\n",
    "plt.xlabel(\"Trabajador\")\n",
    "\n",
    "plt.ylabel(\"Salario\")\n",
    "\n",
    "plt.show()"
   ]
  },
  {
   "cell_type": "code",
   "execution_count": 0,
   "metadata": {
    "application/vnd.databricks.v1+cell": {
     "cellMetadata": {
      "byteLimit": 2048000,
      "rowLimit": 10000
     },
     "inputWidgets": {},
     "nuid": "5c8ffb8c-58b6-45d6-9973-991fdd36488c",
     "showTitle": false,
     "tableResultSettingsMap": {},
     "title": ""
    }
   },
   "outputs": [
    {
     "output_type": "display_data",
     "data": {
      "image/png": "[encoded data removed]",
      "text/plain": [
       "<Figure size 640x480 with 1 Axes>"
      ]
     },
     "metadata": {},
     "output_type": "display_data"
    }
   ],
   "source": [
    "%python\n",
    "plt.pie(salarios, labels=[f\"Trabajador {i+1}\" for i in range(len(salarios))], autopct=\"%1.1f%%\")\n",
    "\n",
    "plt.title(\"Distribución porcentual de salarios\")\n",
    "\n",
    "plt.show()"
   ]
  },
  {
   "cell_type": "code",
   "execution_count": 0,
   "metadata": {
    "application/vnd.databricks.v1+cell": {
     "cellMetadata": {
      "byteLimit": 2048000,
      "rowLimit": 10000
     },
     "inputWidgets": {},
     "nuid": "82f969e0-2887-4c2d-b967-27118cf2b3c4",
     "showTitle": false,
     "tableResultSettingsMap": {},
     "title": ""
    }
   },
   "outputs": [
    {
     "output_type": "display_data",
     "data": {
      "image/png": "[encoded data removed]",
      "text/plain": [
       "<Figure size 640x480 with 1 Axes>"
      ]
     },
     "metadata": {},
     "output_type": "display_data"
    }
   ],
   "source": [
    "%python\n",
    "import matplotlib.pyplot as plt\n",
    "\n",
    "\n",
    "\n",
    "salarios = [500, 600, 550, 650, 700]\n",
    "\n",
    "\n",
    "\n",
    "plt.bar(range(len(salarios)), salarios)\n",
    "\n",
    "plt.title(\"Salarios de trabajadores\")\n",
    "\n",
    "plt.xlabel(\"Trabajador\")\n",
    "\n",
    "plt.ylabel(\"Salario\")\n",
    "\n",
    "plt.show()"
   ]
  },
  {
   "cell_type": "code",
   "execution_count": 0,
   "metadata": {
    "application/vnd.databricks.v1+cell": {
     "cellMetadata": {
      "byteLimit": 2048000,
      "rowLimit": 10000
     },
     "inputWidgets": {},
     "nuid": "ddfc1806-68e4-4d71-8e55-802c9b1b9f39",
     "showTitle": false,
     "tableResultSettingsMap": {},
     "title": ""
    }
   },
   "outputs": [
    {
     "output_type": "stream",
     "name": "stdout",
     "output_type": "stream",
     "text": [
      "El promedio de salarios es: 600.0\n"
     ]
    }
   ],
   "source": [
    "%python\n",
    "promedio = sum(salarios) / len(salarios)\n",
    "\n",
    "print(\"El promedio de salarios es:\", promedio)"
   ]
  },
  {
   "cell_type": "code",
   "execution_count": 0,
   "metadata": {
    "application/vnd.databricks.v1+cell": {
     "cellMetadata": {
      "byteLimit": 2048000,
      "rowLimit": 10000
     },
     "inputWidgets": {},
     "nuid": "90f2038d-2adb-4430-b143-b4311bc6d46f",
     "showTitle": false,
     "tableResultSettingsMap": {},
     "title": ""
    }
   },
   "outputs": [
    {
     "output_type": "display_data",
     "data": {
      "text/html": [
       "<style scoped>\n",
       "  .table-result-container {\n",
       "    max-height: 300px;\n",
       "    overflow: auto;\n",
       "  }\n",
       "  table, th, td {\n",
       "    border: 1px solid black;\n",
       "    border-collapse: collapse;\n",
       "  }\n",
       "  th, td {\n",
       "    padding: 5px;\n",
       "  }\n",
       "  th {\n",
       "    text-align: left;\n",
       "  }\n",
       "</style><div class='table-result-container'><table class='table-result'><thead style='background-color: white'><tr><th>nombre</th><th>salario</th><th>edad</th></tr></thead><tbody><tr><td>Ana</td><td>500</td><td>25</td></tr><tr><td>Luis</td><td>600</td><td>30</td></tr><tr><td>Pedro</td><td>550</td><td>28</td></tr><tr><td>Carla</td><td>650</td><td>35</td></tr><tr><td>Sofía</td><td>700</td><td>40</td></tr><tr><td>Jorge</td><td>800</td><td>29</td></tr><tr><td>María</td><td>750</td><td>33</td></tr></tbody></table></div>"
      ]
     },
     "metadata": {
      "application/vnd.databricks.v1+output": {
       "addedWidgets": {},
       "aggData": [],
       "aggError": "",
       "aggOverflow": false,
       "aggSchema": [],
       "aggSeriesLimitReached": false,
       "aggType": "",
       "arguments": {},
       "columnCustomDisplayInfos": {},
       "data": [
        [
         "Ana",
         500,
         25
        ],
        [
         "Luis",
         600,
         30
        ],
        [
         "Pedro",
         550,
         28
        ],
        [
         "Carla",
         650,
         35
        ],
        [
         "Sofía",
         700,
         40
        ],
        [
         "Jorge",
         800,
         29
        ],
        [
         "María",
         750,
         33
        ]
       ],
       "datasetInfos": [
        {
         "name": "_sqldf",
         "schema": {
          "fields": [
           {
            "metadata": {},
            "name": "nombre",
            "nullable": false,
            "type": "string"
           },
           {
            "metadata": {},
            "name": "salario",
            "nullable": false,
            "type": "integer"
           },
           {
            "metadata": {},
            "name": "edad",
            "nullable": false,
            "type": "integer"
           }
          ],
          "type": "struct"
         },
         "tableIdentifier": null,
         "typeStr": "pyspark.sql.connect.dataframe.DataFrame"
        }
       ],
       "dbfsResultPath": null,
       "isJsonSchema": true,
       "metadata": {
        "createTempViewForImplicitDf": true,
        "dataframeName": "_sqldf",
        "executionCount": 3
       },
       "overflow": false,
       "plotOptions": {
        "customPlotOptions": {},
        "displayType": "table",
        "pivotAggregation": null,
        "pivotColumns": null,
        "xColumns": null,
        "yColumns": null
       },
       "removedWidgets": [],
       "schema": [
        {
         "metadata": "{}",
         "name": "nombre",
         "type": "\"string\""
        },
        {
         "metadata": "{}",
         "name": "salario",
         "type": "\"integer\""
        },
        {
         "metadata": "{}",
         "name": "edad",
         "type": "\"integer\""
        }
       ],
       "type": "table"
      }
     },
     "output_type": "display_data"
    }
   ],
   "source": [
    "%sql\n",
    "-----  SQL ----\n",
    "\n",
    "\n",
    "CREATE OR REPLACE TEMP VIEW empleados AS\n",
    "\n",
    "SELECT 'Ana'   AS nombre, 500 AS salario, 25 AS edad UNION ALL\n",
    "\n",
    "SELECT 'Luis'  AS nombre, 600 AS salario, 30 AS edad UNION ALL\n",
    "\n",
    "SELECT 'Pedro' AS nombre, 550 AS salario, 28 AS edad UNION ALL\n",
    "\n",
    "SELECT 'Carla' AS nombre, 650 AS salario, 35 AS edad UNION ALL\n",
    "\n",
    "SELECT 'Sofía' AS nombre, 700 AS salario, 40 AS edad UNION ALL\n",
    "\n",
    "SELECT 'Jorge' AS nombre, 800 AS salario, 29 AS edad UNION ALL\n",
    "\n",
    "SELECT 'María' AS nombre, 750 AS salario, 33 AS edad;\n",
    "\n",
    "\n",
    "\n",
    "SELECT * FROM empleados;"
   ]
  },
  {
   "cell_type": "code",
   "execution_count": 0,
   "metadata": {
    "application/vnd.databricks.v1+cell": {
     "cellMetadata": {
      "byteLimit": 2048000,
      "rowLimit": 10000
     },
     "inputWidgets": {},
     "nuid": "5bb04ce4-3d02-416a-be60-d35a65295ca8",
     "showTitle": false,
     "tableResultSettingsMap": {},
     "title": ""
    }
   },
   "outputs": [
    {
     "output_type": "display_data",
     "data": {
      "text/html": [
       "<style scoped>\n",
       "  .table-result-container {\n",
       "    max-height: 300px;\n",
       "    overflow: auto;\n",
       "  }\n",
       "  table, th, td {\n",
       "    border: 1px solid black;\n",
       "    border-collapse: collapse;\n",
       "  }\n",
       "  th, td {\n",
       "    padding: 5px;\n",
       "  }\n",
       "  th {\n",
       "    text-align: left;\n",
       "  }\n",
       "</style><div class='table-result-container'><table class='table-result'><thead style='background-color: white'><tr><th>grupo_edad</th><th>promedio_salario</th></tr></thead><tbody><tr><td>Menores de 30</td><td>616.6666666666666</td></tr><tr><td>30 o más</td><td>675.0</td></tr></tbody></table></div>"
      ]
     },
     "metadata": {
      "application/vnd.databricks.v1+output": {
       "addedWidgets": {},
       "aggData": [],
       "aggError": "",
       "aggOverflow": false,
       "aggSchema": [],
       "aggSeriesLimitReached": false,
       "aggType": "",
       "arguments": {},
       "columnCustomDisplayInfos": {},
       "data": [
        [
         "Menores de 30",
         616.6666666666666
        ],
        [
         "30 o más",
         675.0
        ]
       ],
       "datasetInfos": [
        {
         "name": "_sqldf",
         "schema": {
          "fields": [
           {
            "metadata": {},
            "name": "grupo_edad",
            "nullable": false,
            "type": "string"
           },
           {
            "metadata": {},
            "name": "promedio_salario",
            "nullable": true,
            "type": "double"
           }
          ],
          "type": "struct"
         },
         "tableIdentifier": null,
         "typeStr": "pyspark.sql.connect.dataframe.DataFrame"
        }
       ],
       "dbfsResultPath": null,
       "isJsonSchema": true,
       "metadata": {
        "createTempViewForImplicitDf": true,
        "dataframeName": "_sqldf",
        "executionCount": 5
       },
       "overflow": false,
       "plotOptions": {
        "customPlotOptions": {},
        "displayType": "table",
        "pivotAggregation": null,
        "pivotColumns": null,
        "xColumns": null,
        "yColumns": null
       },
       "removedWidgets": [],
       "schema": [
        {
         "metadata": "{}",
         "name": "grupo_edad",
         "type": "\"string\""
        },
        {
         "metadata": "{}",
         "name": "promedio_salario",
         "type": "\"double\""
        }
       ],
       "type": "table"
      }
     },
     "output_type": "display_data"
    }
   ],
   "source": [
    "%sql\n",
    "SELECT \n",
    "\n",
    "    CASE WHEN edad < 30 THEN 'Menores de 30' ELSE '30 o más' END AS grupo_edad,\n",
    "\n",
    "    AVG(salario) AS promedio_salario\n",
    "\n",
    "FROM empleados\n",
    "\n",
    "GROUP BY grupo_edad;"
   ]
  },
  {
   "cell_type": "code",
   "execution_count": 0,
   "metadata": {
    "application/vnd.databricks.v1+cell": {
     "cellMetadata": {
      "byteLimit": 2048000,
      "rowLimit": 10000
     },
     "inputWidgets": {},
     "nuid": "ab0592eb-8e2b-433f-aa74-9d9e3bdf96e1",
     "showTitle": false,
     "tableResultSettingsMap": {},
     "title": ""
    }
   },
   "outputs": [
    {
     "output_type": "display_data",
     "data": {
      "text/html": [
       "<style scoped>\n",
       "  .table-result-container {\n",
       "    max-height: 300px;\n",
       "    overflow: auto;\n",
       "  }\n",
       "  table, th, td {\n",
       "    border: 1px solid black;\n",
       "    border-collapse: collapse;\n",
       "  }\n",
       "  th, td {\n",
       "    padding: 5px;\n",
       "  }\n",
       "  th {\n",
       "    text-align: left;\n",
       "  }\n",
       "</style><div class='table-result-container'><table class='table-result'><thead style='background-color: white'><tr><th>salario_promedio</th></tr></thead><tbody><tr><td>650.0</td></tr></tbody></table></div>"
      ]
     },
     "metadata": {
      "application/vnd.databricks.v1+output": {
       "addedWidgets": {},
       "aggData": [],
       "aggError": "",
       "aggOverflow": false,
       "aggSchema": [],
       "aggSeriesLimitReached": false,
       "aggType": "",
       "arguments": {},
       "columnCustomDisplayInfos": {},
       "data": [
        [
         650.0
        ]
       ],
       "datasetInfos": [
        {
         "name": "_sqldf",
         "schema": {
          "fields": [
           {
            "metadata": {},
            "name": "salario_promedio",
            "nullable": true,
            "type": "double"
           }
          ],
          "type": "struct"
         },
         "tableIdentifier": null,
         "typeStr": "pyspark.sql.connect.dataframe.DataFrame"
        }
       ],
       "dbfsResultPath": null,
       "isJsonSchema": true,
       "metadata": {
        "createTempViewForImplicitDf": true,
        "dataframeName": "_sqldf",
        "executionCount": 7
       },
       "overflow": false,
       "plotOptions": {
        "customPlotOptions": {},
        "displayType": "table",
        "pivotAggregation": null,
        "pivotColumns": null,
        "xColumns": null,
        "yColumns": null
       },
       "removedWidgets": [],
       "schema": [
        {
         "metadata": "{}",
         "name": "salario_promedio",
         "type": "\"double\""
        }
       ],
       "type": "table"
      }
     },
     "output_type": "display_data"
    }
   ],
   "source": [
    "%sql\n",
    "SELECT AVG(salario) AS salario_promedio FROM empleados;"
   ]
  },
  {
   "cell_type": "code",
   "execution_count": 0,
   "metadata": {
    "application/vnd.databricks.v1+cell": {
     "cellMetadata": {
      "byteLimit": 2048000,
      "rowLimit": 10000
     },
     "inputWidgets": {},
     "nuid": "8f76adba-50df-44e8-bd36-b3318939aaa4",
     "showTitle": false,
     "tableResultSettingsMap": {},
     "title": ""
    }
   },
   "outputs": [
    {
     "output_type": "display_data",
     "data": {
      "text/html": [
       "<style scoped>\n",
       "  .table-result-container {\n",
       "    max-height: 300px;\n",
       "    overflow: auto;\n",
       "  }\n",
       "  table, th, td {\n",
       "    border: 1px solid black;\n",
       "    border-collapse: collapse;\n",
       "  }\n",
       "  th, td {\n",
       "    padding: 5px;\n",
       "  }\n",
       "  th {\n",
       "    text-align: left;\n",
       "  }\n",
       "</style><div class='table-result-container'><table class='table-result'><thead style='background-color: white'><tr><th>A</th><th>B</th></tr></thead><tbody><tr><td>100</td><td>150</td></tr><tr><td>200</td><td>250</td></tr></tbody></table></div>"
      ]
     },
     "metadata": {
      "application/vnd.databricks.v1+output": {
       "addedWidgets": {},
       "aggData": [],
       "aggError": "",
       "aggOverflow": false,
       "aggSchema": [],
       "aggSeriesLimitReached": false,
       "aggType": "",
       "arguments": {},
       "columnCustomDisplayInfos": {},
       "data": [
        [
         100,
         150
        ],
        [
         200,
         250
        ]
       ],
       "datasetInfos": [],
       "dbfsResultPath": null,
       "isJsonSchema": true,
       "metadata": {},
       "overflow": false,
       "plotOptions": {
        "customPlotOptions": {},
        "displayType": "table",
        "pivotAggregation": null,
        "pivotColumns": null,
        "xColumns": null,
        "yColumns": null
       },
       "removedWidgets": [],
       "schema": [
        {
         "metadata": "{}",
         "name": "A",
         "type": "\"long\""
        },
        {
         "metadata": "{}",
         "name": "B",
         "type": "\"long\""
        }
       ],
       "type": "table"
      }
     },
     "output_type": "display_data"
    }
   ],
   "source": [
    "import pandas as pd\n",
    "ventas = {\n",
    "\n",
    "    \"Mes\": [\"Enero\",\"Enero\",\"Febrero\",\"Febrero\"],\n",
    "\n",
    "    \"Producto\": [\"A\",\"B\",\"A\",\"B\"],\n",
    "\n",
    "    \"Ventas\": [100,150,200,250]\n",
    "\n",
    "}\n",
    "\n",
    "\n",
    "\n",
    "df_ventas = pd.DataFrame(ventas)\n",
    "\n",
    "tabla = pd.pivot_table(df_ventas, values=\"Ventas\", index=\"Mes\", columns=\"Producto\", aggfunc=\"sum\")\n",
    "\n",
    "display(tabla)"
   ]
  },
  {
   "cell_type": "code",
   "execution_count": 0,
   "metadata": {
    "application/vnd.databricks.v1+cell": {
     "cellMetadata": {},
     "inputWidgets": {},
     "nuid": "48029e55-6444-4f23-a54c-4695f0f2e4eb",
     "showTitle": false,
     "tableResultSettingsMap": {},
     "title": ""
    }
   },
   "outputs": [],
   "source": []
  }
 ],
 "metadata": {
  "application/vnd.databricks.v1+notebook": {
   "computePreferences": null,
   "dashboards": [],
   "environmentMetadata": {
    "base_environment": "",
    "environment_version": "2"
   },
   "inputWidgetPreferences": null,
   "language": "python",
   "notebookMetadata": {
    "mostRecentlyExecutedCommandWithImplicitDF": {
     "commandId": 7146334658395248,
     "dataframes": [
      "_sqldf"
     ]
    },
    "pythonIndentUnit": 4
   },
   "notebookName": "Mi_primer_notebook",
   "widgets": {}
  },
  "language_info": {
   "name": "python"
  }
 },
 "nbformat": 4,
 "nbformat_minor": 0
}